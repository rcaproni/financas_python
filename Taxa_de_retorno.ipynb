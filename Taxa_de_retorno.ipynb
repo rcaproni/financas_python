{
 "cells": [
  {
   "cell_type": "markdown",
   "metadata": {},
   "source": [
    "Calculo de taxa de retorno.\n",
    "Taxa aritmética e logaritmica.\n",
    "Data source: Yahoo Finance\n",
    "Autor: Rodolfo Caproni"
   ]
  },
  {
   "cell_type": "code",
   "execution_count": 1,
   "metadata": {},
   "outputs": [],
   "source": [
    "import numpy as np\n",
    "from pandas_datareader import data as wb\n",
    "import matplotlib.pyplot as plt"
   ]
  },
  {
   "cell_type": "code",
   "execution_count": 2,
   "metadata": {},
   "outputs": [],
   "source": [
    "#Le dados no Yahoo Finance desde 2015\n",
    "BVSP = wb.DataReader('^BVSP', data_source='yahoo', start='2015-1-1')\n",
    "VALE = wb.DataReader('VALE3.SA', data_source='yahoo', start='2015-1-1')\n",
    "PETR = wb.DataReader('PETR4.SA', data_source='yahoo', start='2015-1-1')"
   ]
  },
  {
   "cell_type": "code",
   "execution_count": 3,
   "metadata": {},
   "outputs": [
    {
     "data": {
      "text/html": [
       "<div>\n",
       "<style scoped>\n",
       "    .dataframe tbody tr th:only-of-type {\n",
       "        vertical-align: middle;\n",
       "    }\n",
       "\n",
       "    .dataframe tbody tr th {\n",
       "        vertical-align: top;\n",
       "    }\n",
       "\n",
       "    .dataframe thead th {\n",
       "        text-align: right;\n",
       "    }\n",
       "</style>\n",
       "<table border=\"1\" class=\"dataframe\">\n",
       "  <thead>\n",
       "    <tr style=\"text-align: right;\">\n",
       "      <th></th>\n",
       "      <th>High</th>\n",
       "      <th>Low</th>\n",
       "      <th>Open</th>\n",
       "      <th>Close</th>\n",
       "      <th>Volume</th>\n",
       "      <th>Adj Close</th>\n",
       "    </tr>\n",
       "    <tr>\n",
       "      <th>Date</th>\n",
       "      <th></th>\n",
       "      <th></th>\n",
       "      <th></th>\n",
       "      <th></th>\n",
       "      <th></th>\n",
       "      <th></th>\n",
       "    </tr>\n",
       "  </thead>\n",
       "  <tbody>\n",
       "    <tr>\n",
       "      <th>2015-01-02</th>\n",
       "      <td>50005.0</td>\n",
       "      <td>48345.0</td>\n",
       "      <td>50005.0</td>\n",
       "      <td>48512.0</td>\n",
       "      <td>2882100.0</td>\n",
       "      <td>48512.0</td>\n",
       "    </tr>\n",
       "    <tr>\n",
       "      <th>2015-01-05</th>\n",
       "      <td>48512.0</td>\n",
       "      <td>47264.0</td>\n",
       "      <td>48512.0</td>\n",
       "      <td>47517.0</td>\n",
       "      <td>3866100.0</td>\n",
       "      <td>47517.0</td>\n",
       "    </tr>\n",
       "    <tr>\n",
       "      <th>2015-01-06</th>\n",
       "      <td>48061.0</td>\n",
       "      <td>47338.0</td>\n",
       "      <td>47517.0</td>\n",
       "      <td>48001.0</td>\n",
       "      <td>4559300.0</td>\n",
       "      <td>48001.0</td>\n",
       "    </tr>\n",
       "    <tr>\n",
       "      <th>2015-01-07</th>\n",
       "      <td>49882.0</td>\n",
       "      <td>48006.0</td>\n",
       "      <td>48006.0</td>\n",
       "      <td>49463.0</td>\n",
       "      <td>4408800.0</td>\n",
       "      <td>49463.0</td>\n",
       "    </tr>\n",
       "    <tr>\n",
       "      <th>2015-01-08</th>\n",
       "      <td>50261.0</td>\n",
       "      <td>49017.0</td>\n",
       "      <td>49463.0</td>\n",
       "      <td>49943.0</td>\n",
       "      <td>3621900.0</td>\n",
       "      <td>49943.0</td>\n",
       "    </tr>\n",
       "  </tbody>\n",
       "</table>\n",
       "</div>"
      ],
      "text/plain": [
       "               High      Low     Open    Close     Volume  Adj Close\n",
       "Date                                                                \n",
       "2015-01-02  50005.0  48345.0  50005.0  48512.0  2882100.0    48512.0\n",
       "2015-01-05  48512.0  47264.0  48512.0  47517.0  3866100.0    47517.0\n",
       "2015-01-06  48061.0  47338.0  47517.0  48001.0  4559300.0    48001.0\n",
       "2015-01-07  49882.0  48006.0  48006.0  49463.0  4408800.0    49463.0\n",
       "2015-01-08  50261.0  49017.0  49463.0  49943.0  3621900.0    49943.0"
      ]
     },
     "execution_count": 3,
     "metadata": {},
     "output_type": "execute_result"
    }
   ],
   "source": [
    "# Imprime inicio dos dados\n",
    "BVSP.head()"
   ]
  },
  {
   "cell_type": "code",
   "execution_count": 4,
   "metadata": {},
   "outputs": [
    {
     "data": {
      "text/html": [
       "<div>\n",
       "<style scoped>\n",
       "    .dataframe tbody tr th:only-of-type {\n",
       "        vertical-align: middle;\n",
       "    }\n",
       "\n",
       "    .dataframe tbody tr th {\n",
       "        vertical-align: top;\n",
       "    }\n",
       "\n",
       "    .dataframe thead th {\n",
       "        text-align: right;\n",
       "    }\n",
       "</style>\n",
       "<table border=\"1\" class=\"dataframe\">\n",
       "  <thead>\n",
       "    <tr style=\"text-align: right;\">\n",
       "      <th></th>\n",
       "      <th>High</th>\n",
       "      <th>Low</th>\n",
       "      <th>Open</th>\n",
       "      <th>Close</th>\n",
       "      <th>Volume</th>\n",
       "      <th>Adj Close</th>\n",
       "    </tr>\n",
       "    <tr>\n",
       "      <th>Date</th>\n",
       "      <th></th>\n",
       "      <th></th>\n",
       "      <th></th>\n",
       "      <th></th>\n",
       "      <th></th>\n",
       "      <th></th>\n",
       "    </tr>\n",
       "  </thead>\n",
       "  <tbody>\n",
       "    <tr>\n",
       "      <th>2015-01-02</th>\n",
       "      <td>21.950001</td>\n",
       "      <td>21.059999</td>\n",
       "      <td>21.700001</td>\n",
       "      <td>21.280001</td>\n",
       "      <td>5658400.0</td>\n",
       "      <td>17.272886</td>\n",
       "    </tr>\n",
       "    <tr>\n",
       "      <th>2015-01-05</th>\n",
       "      <td>21.129999</td>\n",
       "      <td>20.510000</td>\n",
       "      <td>20.760000</td>\n",
       "      <td>20.959999</td>\n",
       "      <td>8603000.0</td>\n",
       "      <td>17.013140</td>\n",
       "    </tr>\n",
       "    <tr>\n",
       "      <th>2015-01-06</th>\n",
       "      <td>22.129999</td>\n",
       "      <td>21.070000</td>\n",
       "      <td>21.070000</td>\n",
       "      <td>21.799999</td>\n",
       "      <td>9879900.0</td>\n",
       "      <td>17.694967</td>\n",
       "    </tr>\n",
       "    <tr>\n",
       "      <th>2015-01-07</th>\n",
       "      <td>22.809999</td>\n",
       "      <td>21.969999</td>\n",
       "      <td>22.320000</td>\n",
       "      <td>22.600000</td>\n",
       "      <td>6130900.0</td>\n",
       "      <td>18.344326</td>\n",
       "    </tr>\n",
       "    <tr>\n",
       "      <th>2015-01-08</th>\n",
       "      <td>22.879999</td>\n",
       "      <td>22.110001</td>\n",
       "      <td>22.770000</td>\n",
       "      <td>22.840000</td>\n",
       "      <td>4667300.0</td>\n",
       "      <td>18.539129</td>\n",
       "    </tr>\n",
       "  </tbody>\n",
       "</table>\n",
       "</div>"
      ],
      "text/plain": [
       "                 High        Low       Open      Close     Volume  Adj Close\n",
       "Date                                                                        \n",
       "2015-01-02  21.950001  21.059999  21.700001  21.280001  5658400.0  17.272886\n",
       "2015-01-05  21.129999  20.510000  20.760000  20.959999  8603000.0  17.013140\n",
       "2015-01-06  22.129999  21.070000  21.070000  21.799999  9879900.0  17.694967\n",
       "2015-01-07  22.809999  21.969999  22.320000  22.600000  6130900.0  18.344326\n",
       "2015-01-08  22.879999  22.110001  22.770000  22.840000  4667300.0  18.539129"
      ]
     },
     "execution_count": 4,
     "metadata": {},
     "output_type": "execute_result"
    }
   ],
   "source": [
    "# Imprime final dos dados\n",
    "VALE.head()"
   ]
  },
  {
   "cell_type": "code",
   "execution_count": 10,
   "metadata": {},
   "outputs": [
    {
     "name": "stdout",
     "output_type": "stream",
     "text": [
      "Date\n",
      "2015-01-02         NaN\n",
      "2015-01-05   -0.020510\n",
      "2015-01-06    0.010186\n",
      "2015-01-07    0.030458\n",
      "2015-01-08    0.009704\n",
      "                ...   \n",
      "2020-11-13    0.022873\n",
      "2020-11-16    0.018352\n",
      "2020-11-17    0.007507\n",
      "2020-11-18   -0.006957\n",
      "2020-11-19   -0.000658\n",
      "Name: ret_arit, Length: 1454, dtype: float64\n"
     ]
    }
   ],
   "source": [
    "#Calcula retornos aritmeticos\n",
    "BVSP['ret_arit'] = (BVSP['Adj Close']/BVSP['Adj Close'].shift(1))-1\n",
    "VALE['ret_arit'] = (VALE['Adj Close']/VALE['Adj Close'].shift(1))-1\n",
    "PETR['ret_arit'] = (PETR['Adj Close']/PETR['Adj Close'].shift(1))-1\n",
    "print(BVSP['ret_arit'])"
   ]
  },
  {
   "cell_type": "code",
   "execution_count": 11,
   "metadata": {},
   "outputs": [
    {
     "data": {
      "image/png": "[encoded data removed]",
      "text/plain": [
       "<Figure size 720x576 with 1 Axes>"
      ]
     },
     "metadata": {
      "needs_background": "light"
     },
     "output_type": "display_data"
    }
   ],
   "source": [
    "BVSP['ret_arit'].plot(figsize=(10,8), label=\"IBOV\")\n",
    "VALE['ret_arit'].plot(figsize=(10,8))\n",
    "PETR['ret_arit'].plot(figsize=(10,8))\n",
    "plt.show()"
   ]
  },
  {
   "cell_type": "code",
   "execution_count": 16,
   "metadata": {},
   "outputs": [
    {
     "name": "stdout",
     "output_type": "stream",
     "text": [
      "Retorno aritmetico diario medio IBOV  = 0.06899999999999999 %\n",
      "Retorno aritmetico diario medio VALE  = 0.14300000000000002 %\n",
      "Retorno aritmetico diario medio PETRO = 0.127 %\n"
     ]
    }
   ],
   "source": [
    "#retornos medios diarios\n",
    "ret_med_dia_BVSP = BVSP['ret_arit'].mean()\n",
    "ret_med_dia_VALE = VALE['ret_arit'].mean()\n",
    "ret_med_dia_PETR = PETR['ret_arit'].mean()\n",
    "print(\"Retorno aritmetico diario medio IBOV  = \" + str(round(ret_med_dia_BVSP,5) *100) + ' %')\n",
    "print(\"Retorno aritmetico diario medio VALE  = \" + str(round(ret_med_dia_VALE,5) *100) + ' %')\n",
    "print(\"Retorno aritmetico diario medio PETRO = \" + str(round(ret_med_dia_PETR,5) *100) + ' %')"
   ]
  },
  {
   "cell_type": "code",
   "execution_count": 17,
   "metadata": {},
   "outputs": [
    {
     "name": "stdout",
     "output_type": "stream",
     "text": [
      "Retorno aritmetico diario medio IBOV  = 17.294999999999998 %\n",
      "Retorno aritmetico diario medio VALE  = 35.817 %\n",
      "Retorno aritmetico diario medio PETRO = 31.718000000000004 %\n"
     ]
    }
   ],
   "source": [
    "#retornos medios anuais\n",
    "ret_med_an_BVSP = ret_med_dia_BVSP * 250\n",
    "ret_med_an_VALE = ret_med_dia_VALE * 250\n",
    "ret_med_an_PETR = ret_med_dia_PETR * 250\n",
    "print(\"Retorno aritmetico diario medio IBOV  = \" + str(round(ret_med_an_BVSP,5) *100) + ' %')\n",
    "print(\"Retorno aritmetico diario medio VALE  = \" + str(round(ret_med_an_VALE,5) *100) + ' %')\n",
    "print(\"Retorno aritmetico diario medio PETRO = \" + str(round(ret_med_an_PETR,5) *100) + ' %')"
   ]
  }
 ],
 "metadata": {
  "kernelspec": {
   "display_name": "Python 3",
   "language": "python",
   "name": "python3"
  },
  "language_info": {
   "codemirror_mode": {
    "name": "ipython",
    "version": 3
   },
   "file_extension": ".py",
   "mimetype": "text/x-python",
   "name": "python",
   "nbconvert_exporter": "python",
   "pygments_lexer": "ipython3",
   "version": "3.8.3"
  }
 },
 "nbformat": 4,
 "nbformat_minor": 4
}
